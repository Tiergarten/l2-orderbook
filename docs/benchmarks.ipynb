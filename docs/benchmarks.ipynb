{
 "cells": [
  {
   "cell_type": "markdown",
   "metadata": {},
   "source": [
    "# Benchmarks"
   ]
  },
  {
   "cell_type": "code",
   "execution_count": 1,
   "metadata": {},
   "outputs": [],
   "source": [
    "import logging\n",
    "import os\n",
    "\n",
    "logging.basicConfig(level=os.environ.get(\"LOGLEVEL\", \"INFO\"))"
   ]
  },
  {
   "cell_type": "code",
   "execution_count": 2,
   "metadata": {},
   "outputs": [],
   "source": [
    "import pandas as pd\n",
    "import numpy as np\n",
    "import seaborn as sns\n",
    "import matplotlib.pyplot as plt"
   ]
  },
  {
   "cell_type": "code",
   "execution_count": 3,
   "metadata": {},
   "outputs": [],
   "source": [
    "from l2_orderbook_tops import l2_orderbook_tops, loader"
   ]
  },
  {
   "cell_type": "code",
   "execution_count": 4,
   "metadata": {},
   "outputs": [],
   "source": [
    "pd.set_option('display.max_colwidth', None)"
   ]
  },
  {
   "cell_type": "code",
   "execution_count": 5,
   "metadata": {},
   "outputs": [
    {
     "data": {
      "text/html": [
       "<style>.container { width:100% !important; }</style>"
      ],
      "text/plain": [
       "<IPython.core.display.HTML object>"
      ]
     },
     "metadata": {},
     "output_type": "display_data"
    }
   ],
   "source": [
    "from IPython.core.display import display, HTML\n",
    "display(HTML(\"<style>.container { width:100% !important; }</style>\"))\n",
    "pd.set_option('display.max_columns', None)"
   ]
  },
  {
   "cell_type": "code",
   "execution_count": 6,
   "metadata": {},
   "outputs": [],
   "source": [
    "INPUT_DIR='/storage/m2/market_data/raw/crypto/binance/BTCUSDT/orderbook'\n",
    "SAMPLE_DATE='2020-11-01'"
   ]
  },
  {
   "cell_type": "markdown",
   "metadata": {},
   "source": [
    "## Naive Python/Numpy implementation"
   ]
  },
  {
   "cell_type": "code",
   "execution_count": 7,
   "metadata": {},
   "outputs": [],
   "source": [
    "def apply_side(p_prices, p_qtys, price, qty):\n",
    "    pos = np.searchsorted(p_prices, price)\n",
    "\n",
    "    if price not in p_prices:\n",
    "        p_prices = np.insert(p_prices, pos, price)\n",
    "        p_qtys = np.insert(p_qtys, pos, qty)\n",
    "    else:\n",
    "        if qty == 0.0:\n",
    "            p_prices = np.delete(p_prices, pos)\n",
    "            p_qtys = np.delete(p_qtys, pos)\n",
    "        else:\n",
    "            p_qtys[pos] = qty\n",
    "\n",
    "    return p_prices, p_qtys\n",
    "    \n",
    "def l2_walk_naive(data, top_n):\n",
    "\n",
    "    bid_prices, bid_qtys = np.array([]), np.array([])\n",
    "    ask_prices, ask_qtys = np.array([]), np.array([])\n",
    "    out = []\n",
    "\n",
    "    for ts, side, price, qty in data:\n",
    "        \n",
    "        if side == 1:\n",
    "            bid_prices, bid_qtys = apply_side(bid_prices, bid_qtys, price, qty)\n",
    "        else:\n",
    "            ask_prices, ask_qtys = apply_side(ask_prices, ask_qtys, price, qty)\n",
    "            \n",
    "        top_bids = np.stack((bid_prices[-top_n:], bid_qtys[-top_n:])).flatten(order='F')\n",
    "        top_asks = np.stack((bid_prices[:top_n], bid_qtys[:top_n])).flatten(order='F')\n",
    "        \n",
    "        _out = np.concatenate((top_bids, top_asks))\n",
    "        out.append(_out)\n",
    "\n",
    "    return out"
   ]
  },
  {
   "cell_type": "markdown",
   "metadata": {},
   "source": [
    "# Benchmarks"
   ]
  },
  {
   "cell_type": "code",
   "execution_count": 8,
   "metadata": {},
   "outputs": [],
   "source": [
    "snap, delta = loader.get_binance_orderbook_snap_delta(INPUT_DIR, SAMPLE_DATE)\n",
    "df = pd.concat([snap, delta])"
   ]
  },
  {
   "cell_type": "code",
   "execution_count": 9,
   "metadata": {},
   "outputs": [],
   "source": [
    "data =  df[['timestamp', 'side', 'price', 'qty']] \\\n",
    "    .head(100000)"
   ]
  },
  {
   "cell_type": "markdown",
   "metadata": {},
   "source": [
    "### Time naive implementation"
   ]
  },
  {
   "cell_type": "code",
   "execution_count": 10,
   "metadata": {},
   "outputs": [
    {
     "name": "stdout",
     "output_type": "stream",
     "text": [
      "5.23 s ± 41.5 ms per loop (mean ± std. dev. of 7 runs, 1 loop each)\n"
     ]
    },
    {
     "data": {
      "text/plain": [
       "<TimeitResult : 5.23 s ± 41.5 ms per loop (mean ± std. dev. of 7 runs, 1 loop each)>"
      ]
     },
     "execution_count": 10,
     "metadata": {},
     "output_type": "execute_result"
    }
   ],
   "source": [
    "%%timeit -o \n",
    "\n",
    "ret = l2_walk_naive(data.values, 8)"
   ]
  },
  {
   "cell_type": "code",
   "execution_count": 11,
   "metadata": {},
   "outputs": [
    {
     "data": {
      "text/plain": [
       "5.231963757841315"
      ]
     },
     "execution_count": 11,
     "metadata": {},
     "output_type": "execute_result"
    }
   ],
   "source": [
    "timings = _\n",
    "naive_t = np.mean(timings.timings)\n",
    "naive_t"
   ]
  },
  {
   "cell_type": "markdown",
   "metadata": {},
   "source": [
    "### Time plb C++ implementation"
   ]
  },
  {
   "cell_type": "code",
   "execution_count": 12,
   "metadata": {},
   "outputs": [],
   "source": [
    "data = loader.set_types(data)"
   ]
  },
  {
   "cell_type": "code",
   "execution_count": 13,
   "metadata": {},
   "outputs": [
    {
     "name": "stderr",
     "output_type": "stream",
     "text": [
      "INFO:root:Calculating top(8, watch_depth=0)\n",
      "INFO:root:Calculating top(8, watch_depth=0)\n",
      "INFO:root:Calculating top(8, watch_depth=0)\n",
      "INFO:root:Calculating top(8, watch_depth=0)\n",
      "INFO:root:Calculating top(8, watch_depth=0)\n",
      "INFO:root:Calculating top(8, watch_depth=0)\n",
      "INFO:root:Calculating top(8, watch_depth=0)\n",
      "INFO:root:Calculating top(8, watch_depth=0)\n",
      "INFO:root:Calculating top(8, watch_depth=0)\n",
      "INFO:root:Calculating top(8, watch_depth=0)\n",
      "INFO:root:Calculating top(8, watch_depth=0)\n",
      "INFO:root:Calculating top(8, watch_depth=0)\n",
      "INFO:root:Calculating top(8, watch_depth=0)\n",
      "INFO:root:Calculating top(8, watch_depth=0)\n",
      "INFO:root:Calculating top(8, watch_depth=0)\n",
      "INFO:root:Calculating top(8, watch_depth=0)\n",
      "INFO:root:Calculating top(8, watch_depth=0)\n",
      "INFO:root:Calculating top(8, watch_depth=0)\n",
      "INFO:root:Calculating top(8, watch_depth=0)\n",
      "INFO:root:Calculating top(8, watch_depth=0)\n",
      "INFO:root:Calculating top(8, watch_depth=0)\n",
      "INFO:root:Calculating top(8, watch_depth=0)\n",
      "INFO:root:Calculating top(8, watch_depth=0)\n",
      "INFO:root:Calculating top(8, watch_depth=0)\n",
      "INFO:root:Calculating top(8, watch_depth=0)\n",
      "INFO:root:Calculating top(8, watch_depth=0)\n",
      "INFO:root:Calculating top(8, watch_depth=0)\n",
      "INFO:root:Calculating top(8, watch_depth=0)\n",
      "INFO:root:Calculating top(8, watch_depth=0)\n",
      "INFO:root:Calculating top(8, watch_depth=0)\n",
      "INFO:root:Calculating top(8, watch_depth=0)\n",
      "INFO:root:Calculating top(8, watch_depth=0)\n",
      "INFO:root:Calculating top(8, watch_depth=0)\n",
      "INFO:root:Calculating top(8, watch_depth=0)\n",
      "INFO:root:Calculating top(8, watch_depth=0)\n",
      "INFO:root:Calculating top(8, watch_depth=0)\n",
      "INFO:root:Calculating top(8, watch_depth=0)\n",
      "INFO:root:Calculating top(8, watch_depth=0)\n",
      "INFO:root:Calculating top(8, watch_depth=0)\n",
      "INFO:root:Calculating top(8, watch_depth=0)\n",
      "INFO:root:Calculating top(8, watch_depth=0)\n",
      "INFO:root:Calculating top(8, watch_depth=0)\n",
      "INFO:root:Calculating top(8, watch_depth=0)\n",
      "INFO:root:Calculating top(8, watch_depth=0)\n",
      "INFO:root:Calculating top(8, watch_depth=0)\n",
      "INFO:root:Calculating top(8, watch_depth=0)\n",
      "INFO:root:Calculating top(8, watch_depth=0)\n",
      "INFO:root:Calculating top(8, watch_depth=0)\n",
      "INFO:root:Calculating top(8, watch_depth=0)\n",
      "INFO:root:Calculating top(8, watch_depth=0)\n",
      "INFO:root:Calculating top(8, watch_depth=0)\n",
      "INFO:root:Calculating top(8, watch_depth=0)\n",
      "INFO:root:Calculating top(8, watch_depth=0)\n",
      "INFO:root:Calculating top(8, watch_depth=0)\n",
      "INFO:root:Calculating top(8, watch_depth=0)\n",
      "INFO:root:Calculating top(8, watch_depth=0)\n",
      "INFO:root:Calculating top(8, watch_depth=0)\n",
      "INFO:root:Calculating top(8, watch_depth=0)\n",
      "INFO:root:Calculating top(8, watch_depth=0)\n",
      "INFO:root:Calculating top(8, watch_depth=0)\n",
      "INFO:root:Calculating top(8, watch_depth=0)\n",
      "INFO:root:Calculating top(8, watch_depth=0)\n",
      "INFO:root:Calculating top(8, watch_depth=0)\n",
      "INFO:root:Calculating top(8, watch_depth=0)\n",
      "INFO:root:Calculating top(8, watch_depth=0)\n",
      "INFO:root:Calculating top(8, watch_depth=0)\n",
      "INFO:root:Calculating top(8, watch_depth=0)\n",
      "INFO:root:Calculating top(8, watch_depth=0)\n",
      "INFO:root:Calculating top(8, watch_depth=0)\n",
      "INFO:root:Calculating top(8, watch_depth=0)\n",
      "INFO:root:Calculating top(8, watch_depth=0)\n",
      "INFO:root:Calculating top(8, watch_depth=0)\n",
      "INFO:root:Calculating top(8, watch_depth=0)\n",
      "INFO:root:Calculating top(8, watch_depth=0)\n",
      "INFO:root:Calculating top(8, watch_depth=0)\n",
      "INFO:root:Calculating top(8, watch_depth=0)\n",
      "INFO:root:Calculating top(8, watch_depth=0)\n",
      "INFO:root:Calculating top(8, watch_depth=0)\n",
      "INFO:root:Calculating top(8, watch_depth=0)\n",
      "INFO:root:Calculating top(8, watch_depth=0)\n",
      "INFO:root:Calculating top(8, watch_depth=0)\n"
     ]
    },
    {
     "name": "stdout",
     "output_type": "stream",
     "text": [
      "41.1 ms ± 4.62 ms per loop (mean ± std. dev. of 7 runs, 10 loops each)\n"
     ]
    },
    {
     "data": {
      "text/plain": [
       "<TimeitResult : 41.1 ms ± 4.62 ms per loop (mean ± std. dev. of 7 runs, 10 loops each)>"
      ]
     },
     "execution_count": 13,
     "metadata": {},
     "output_type": "execute_result"
    }
   ],
   "source": [
    "%%timeit -o \n",
    "\n",
    "ret = l2_orderbook_tops.get_tops(data, watch_dollar_dist_depth=0)"
   ]
  },
  {
   "cell_type": "code",
   "execution_count": 14,
   "metadata": {},
   "outputs": [
    {
     "data": {
      "text/plain": [
       "0.04112289032865581"
      ]
     },
     "execution_count": 14,
     "metadata": {},
     "output_type": "execute_result"
    }
   ],
   "source": [
    "timings = _\n",
    "plb_t = np.mean(timings.timings)\n",
    "plb_t"
   ]
  },
  {
   "cell_type": "markdown",
   "metadata": {},
   "source": [
    "### Time plb C++ implementation + track qtys within $50 of mid"
   ]
  },
  {
   "cell_type": "code",
   "execution_count": 15,
   "metadata": {},
   "outputs": [
    {
     "name": "stderr",
     "output_type": "stream",
     "text": [
      "INFO:root:Calculating top(8, watch_depth=5000)\n",
      "INFO:root:Calculating top(8, watch_depth=5000)\n",
      "INFO:root:Calculating top(8, watch_depth=5000)\n",
      "INFO:root:Calculating top(8, watch_depth=5000)\n",
      "INFO:root:Calculating top(8, watch_depth=5000)\n",
      "INFO:root:Calculating top(8, watch_depth=5000)\n",
      "INFO:root:Calculating top(8, watch_depth=5000)\n",
      "INFO:root:Calculating top(8, watch_depth=5000)\n"
     ]
    },
    {
     "name": "stdout",
     "output_type": "stream",
     "text": [
      "323 ms ± 8.59 ms per loop (mean ± std. dev. of 7 runs, 1 loop each)\n"
     ]
    },
    {
     "data": {
      "text/plain": [
       "<TimeitResult : 323 ms ± 8.59 ms per loop (mean ± std. dev. of 7 runs, 1 loop each)>"
      ]
     },
     "execution_count": 15,
     "metadata": {},
     "output_type": "execute_result"
    }
   ],
   "source": [
    "%%timeit -o \n",
    "\n",
    "ret = l2_orderbook_tops.get_tops(data, watch_dollar_dist_depth=5000)"
   ]
  },
  {
   "cell_type": "code",
   "execution_count": 16,
   "metadata": {},
   "outputs": [
    {
     "data": {
      "text/plain": [
       "0.3228008638501966"
      ]
     },
     "execution_count": 16,
     "metadata": {},
     "output_type": "execute_result"
    }
   ],
   "source": [
    "timings = _\n",
    "plb_t_d50 = np.mean(timings.timings)\n",
    "plb_t_d50"
   ]
  },
  {
   "cell_type": "markdown",
   "metadata": {},
   "source": [
    "### Time plb C++ implementation + track qtys within $100 of mid"
   ]
  },
  {
   "cell_type": "code",
   "execution_count": 17,
   "metadata": {},
   "outputs": [
    {
     "name": "stderr",
     "output_type": "stream",
     "text": [
      "INFO:root:Calculating top(8, watch_depth=10000)\n",
      "INFO:root:Calculating top(8, watch_depth=10000)\n",
      "INFO:root:Calculating top(8, watch_depth=10000)\n",
      "INFO:root:Calculating top(8, watch_depth=10000)\n",
      "INFO:root:Calculating top(8, watch_depth=10000)\n",
      "INFO:root:Calculating top(8, watch_depth=10000)\n",
      "INFO:root:Calculating top(8, watch_depth=10000)\n",
      "INFO:root:Calculating top(8, watch_depth=10000)\n"
     ]
    },
    {
     "name": "stdout",
     "output_type": "stream",
     "text": [
      "618 ms ± 19.5 ms per loop (mean ± std. dev. of 7 runs, 1 loop each)\n"
     ]
    },
    {
     "data": {
      "text/plain": [
       "<TimeitResult : 618 ms ± 19.5 ms per loop (mean ± std. dev. of 7 runs, 1 loop each)>"
      ]
     },
     "execution_count": 17,
     "metadata": {},
     "output_type": "execute_result"
    }
   ],
   "source": [
    "%%timeit -o \n",
    "\n",
    "ret = l2_orderbook_tops.get_tops(data, watch_dollar_dist_depth=10000)"
   ]
  },
  {
   "cell_type": "code",
   "execution_count": 18,
   "metadata": {},
   "outputs": [
    {
     "data": {
      "text/plain": [
       "0.6180378489661962"
      ]
     },
     "execution_count": 18,
     "metadata": {},
     "output_type": "execute_result"
    }
   ],
   "source": [
    "timings = _\n",
    "plb_t_d100 = np.mean(timings.timings)\n",
    "plb_t_d100"
   ]
  },
  {
   "cell_type": "markdown",
   "metadata": {},
   "source": [
    "# Plots"
   ]
  },
  {
   "cell_type": "code",
   "execution_count": 19,
   "metadata": {},
   "outputs": [
    {
     "data": {
      "text/html": [
       "<div>\n",
       "<style scoped>\n",
       "    .dataframe tbody tr th:only-of-type {\n",
       "        vertical-align: middle;\n",
       "    }\n",
       "\n",
       "    .dataframe tbody tr th {\n",
       "        vertical-align: top;\n",
       "    }\n",
       "\n",
       "    .dataframe thead th {\n",
       "        text-align: right;\n",
       "    }\n",
       "</style>\n",
       "<table border=\"1\" class=\"dataframe\">\n",
       "  <thead>\n",
       "    <tr style=\"text-align: right;\">\n",
       "      <th></th>\n",
       "      <th>Implementation</th>\n",
       "      <th>Avg. Time (Secs)</th>\n",
       "      <th>Speed up</th>\n",
       "    </tr>\n",
       "  </thead>\n",
       "  <tbody>\n",
       "    <tr>\n",
       "      <th>0</th>\n",
       "      <td>naive</td>\n",
       "      <td>5.231964</td>\n",
       "      <td>1.000000</td>\n",
       "    </tr>\n",
       "    <tr>\n",
       "      <th>1</th>\n",
       "      <td>plb</td>\n",
       "      <td>0.041123</td>\n",
       "      <td>127.227530</td>\n",
       "    </tr>\n",
       "    <tr>\n",
       "      <th>2</th>\n",
       "      <td>plb50</td>\n",
       "      <td>0.322801</td>\n",
       "      <td>16.208023</td>\n",
       "    </tr>\n",
       "    <tr>\n",
       "      <th>3</th>\n",
       "      <td>plb100</td>\n",
       "      <td>0.618038</td>\n",
       "      <td>8.465442</td>\n",
       "    </tr>\n",
       "  </tbody>\n",
       "</table>\n",
       "</div>"
      ],
      "text/plain": [
       "  Implementation  Avg. Time (Secs)    Speed up\n",
       "0          naive          5.231964    1.000000\n",
       "1            plb          0.041123  127.227530\n",
       "2          plb50          0.322801   16.208023\n",
       "3         plb100          0.618038    8.465442"
      ]
     },
     "execution_count": 19,
     "metadata": {},
     "output_type": "execute_result"
    }
   ],
   "source": [
    "results = pd.DataFrame.from_dict({\n",
    "    'Implementation': ['naive', 'plb', 'plb50', 'plb100'],\n",
    "    'Avg. Time (Secs)': [naive_t, plb_t, plb_t_d50, plb_t_d100]\n",
    "})\n",
    "\n",
    "results['Speed up'] = results.iloc[0]['Avg. Time (Secs)'] / results['Avg. Time (Secs)']\n",
    "results"
   ]
  },
  {
   "cell_type": "code",
   "execution_count": 21,
   "metadata": {},
   "outputs": [
    {
     "data": {
      "image/png": "[encoded data removed]",
      "text/plain": [
       "<Figure size 432x288 with 1 Axes>"
      ]
     },
     "metadata": {
      "needs_background": "light"
     },
     "output_type": "display_data"
    }
   ],
   "source": [
    "ax = sns.barplot(x=results['Implementation'], y=results['Avg. Time (Secs)'])\n",
    "\n",
    "fig = ax.get_figure()\n",
    "fig.savefig('benchmarks.png')"
   ]
  }
 ],
 "metadata": {
  "kernelspec": {
   "display_name": "py36",
   "language": "python",
   "name": "py36"
  },
  "language_info": {
   "codemirror_mode": {
    "name": "ipython",
    "version": 3
   },
   "file_extension": ".py",
   "mimetype": "text/x-python",
   "name": "python",
   "nbconvert_exporter": "python",
   "pygments_lexer": "ipython3",
   "version": "3.6.12"
  }
 },
 "nbformat": 4,
 "nbformat_minor": 4
}
