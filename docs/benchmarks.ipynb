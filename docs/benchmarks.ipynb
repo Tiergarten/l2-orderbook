{
 "cells": [
  {
   "cell_type": "markdown",
   "metadata": {},
   "source": [
    "# Benchmarks"
   ]
  },
  {
   "cell_type": "code",
   "execution_count": 1,
   "metadata": {},
   "outputs": [],
   "source": [
    "import logging\n",
    "import os\n",
    "\n",
    "logging.basicConfig(level=os.environ.get(\"LOGLEVEL\", \"INFO\"))"
   ]
  },
  {
   "cell_type": "code",
   "execution_count": 2,
   "metadata": {},
   "outputs": [],
   "source": [
    "import pandas as pd\n",
    "import numpy as np\n",
    "import seaborn as sns\n",
    "import matplotlib.pyplot as plt"
   ]
  },
  {
   "cell_type": "code",
   "execution_count": 3,
   "metadata": {},
   "outputs": [],
   "source": [
    "import plb"
   ]
  },
  {
   "cell_type": "code",
   "execution_count": 4,
   "metadata": {},
   "outputs": [],
   "source": [
    "pd.set_option('display.max_colwidth', None)"
   ]
  },
  {
   "cell_type": "code",
   "execution_count": 5,
   "metadata": {},
   "outputs": [
    {
     "data": {
      "text/html": [
       "<style>.container { width:100% !important; }</style>"
      ],
      "text/plain": [
       "<IPython.core.display.HTML object>"
      ]
     },
     "metadata": {},
     "output_type": "display_data"
    }
   ],
   "source": [
    "from IPython.core.display import display, HTML\n",
    "display(HTML(\"<style>.container { width:100% !important; }</style>\"))\n",
    "pd.set_option('display.max_columns', None)"
   ]
  },
  {
   "cell_type": "code",
   "execution_count": 6,
   "metadata": {},
   "outputs": [],
   "source": [
    "INPUT_DIR='/storage/m2/market_data/raw/crypto/binance/BTCUSDT/orderbook'\n",
    "OUTPUT_PQ='output2.parquet'\n",
    "SAMPLE_DATE='2020-11-01'"
   ]
  },
  {
   "cell_type": "markdown",
   "metadata": {},
   "source": [
    "## Price Levels Book (PLB) helper functions"
   ]
  },
  {
   "cell_type": "code",
   "execution_count": 7,
   "metadata": {},
   "outputs": [],
   "source": [
    "def get_input_pair(input_dir, dt):\n",
    "    '''Load Binance L2 orderbook snapshot and delta files'''\n",
    "    fn_template = os.path.join(input_dir, 'BTCUSDT_T_DEPTH_{}_depth_'.format(dt))\n",
    "    snap_fn = fn_template + 'snap.csv'\n",
    "    update_fn = fn_template + 'update.csv'\n",
    "    \n",
    "    return pd.read_csv(snap_fn), pd.read_csv(update_fn)"
   ]
  },
  {
   "cell_type": "code",
   "execution_count": 8,
   "metadata": {},
   "outputs": [],
   "source": [
    "def get_l2_input(input_dir, dt):\n",
    "    '''Pre-process input'''\n",
    "    snapshot, deltas = get_input_pair(input_dir, dt)\n",
    "    \n",
    "    df = pd.concat([snapshot,deltas])\n",
    "\n",
    "    df['side'] = np.where(df['side'] == 'b', 1, 0)\n",
    "    df['side'] = df['side'].astype('int8')\n",
    "\n",
    "    df['qty'] = df['qty'].astype('float32')\n",
    "\n",
    "    df = df.drop(columns=['symbol', 'first_update_id', 'last_update_id', 'update_type'])\n",
    "    \n",
    "    return df, snapshot.shape[0]"
   ]
  },
  {
   "cell_type": "markdown",
   "metadata": {},
   "source": [
    "## Naive Python/Numpy implementation"
   ]
  },
  {
   "cell_type": "code",
   "execution_count": 9,
   "metadata": {},
   "outputs": [],
   "source": [
    "def apply_side(p_prices, p_qtys, price, qty):\n",
    "    pos = np.searchsorted(p_prices, price)\n",
    "\n",
    "    if price not in p_prices:\n",
    "        p_prices = np.insert(p_prices, pos, price)\n",
    "        p_qtys = np.insert(p_qtys, pos, qty)\n",
    "    else:\n",
    "        if qty == 0.0:\n",
    "            p_prices = np.delete(p_prices, pos)\n",
    "            p_qtys = np.delete(p_qtys, pos)\n",
    "        else:\n",
    "            p_qtys[pos] = qty\n",
    "\n",
    "    return p_prices, p_qtys\n",
    "    \n",
    "def l2_walk_naive(data, top_n):\n",
    "\n",
    "    bid_prices, bid_qtys = np.array([]), np.array([])\n",
    "    ask_prices, ask_qtys = np.array([]), np.array([])\n",
    "    out = []\n",
    "\n",
    "    for ts, side, price, qty in data:\n",
    "        \n",
    "        if side == 1:\n",
    "            bid_prices, bid_qtys = apply_side(bid_prices, bid_qtys, price, qty)\n",
    "        else:\n",
    "            ask_prices, ask_qtys = apply_side(ask_prices, ask_qtys, price, qty)\n",
    "            \n",
    "        top_bids = np.stack((bid_prices[-top_n:], bid_qtys[-top_n:])).flatten(order='F')\n",
    "        top_asks = np.stack((bid_prices[:top_n], bid_qtys[:top_n])).flatten(order='F')\n",
    "        \n",
    "        _out = np.concatenate((top_bids, top_asks))\n",
    "        out.append(_out)\n",
    "\n",
    "    return out"
   ]
  },
  {
   "cell_type": "code",
   "execution_count": 10,
   "metadata": {},
   "outputs": [],
   "source": [
    "df, snapshot_end_off_t = get_l2_input(INPUT_DIR, SAMPLE_DATE)\n",
    "\n",
    "data =  df[['timestamp', 'side', 'price', 'qty']] \\\n",
    "    .head(100000) \\\n",
    "    .values"
   ]
  },
  {
   "cell_type": "markdown",
   "metadata": {},
   "source": [
    "### Time naive implementation"
   ]
  },
  {
   "cell_type": "code",
   "execution_count": null,
   "metadata": {},
   "outputs": [],
   "source": [
    "%%timeit -o \n",
    "\n",
    "ret = l2_walk_naive(data, 8)"
   ]
  },
  {
   "cell_type": "code",
   "execution_count": null,
   "metadata": {},
   "outputs": [],
   "source": [
    "timings = _\n",
    "naive_t = np.mean(timings.timings)\n",
    "naive_t"
   ]
  },
  {
   "cell_type": "markdown",
   "metadata": {},
   "source": [
    "### Time plb C++ implementation"
   ]
  },
  {
   "cell_type": "code",
   "execution_count": null,
   "metadata": {},
   "outputs": [],
   "source": [
    "%%timeit -o \n",
    "\n",
    "ret = plb.l2_walk(data[:,0].astype(int), data[:,1].astype(int), data[:,2], data[:,3])"
   ]
  },
  {
   "cell_type": "code",
   "execution_count": null,
   "metadata": {},
   "outputs": [],
   "source": [
    "timings = _\n",
    "plb_t = np.mean(timings.timings)\n",
    "plb_t"
   ]
  },
  {
   "cell_type": "markdown",
   "metadata": {},
   "source": [
    "### Time plb C++ implementation + track qtys within $50 of mid"
   ]
  },
  {
   "cell_type": "code",
   "execution_count": null,
   "metadata": {},
   "outputs": [],
   "source": [
    "%%timeit -o \n",
    "\n",
    "ret = plb.l2_walk(data[:,0].astype(int), data[:,1].astype(int), data[:,2], data[:,3], total_dollar_depth=50)"
   ]
  },
  {
   "cell_type": "code",
   "execution_count": null,
   "metadata": {},
   "outputs": [],
   "source": [
    "timings = _\n",
    "plb_t_d50 = np.mean(timings.timings)\n",
    "plb_t_d50"
   ]
  },
  {
   "cell_type": "markdown",
   "metadata": {},
   "source": [
    "### Time plb C++ implementation + track qtys within $100 of mid"
   ]
  },
  {
   "cell_type": "code",
   "execution_count": null,
   "metadata": {},
   "outputs": [],
   "source": [
    "%%timeit -o \n",
    "\n",
    "ret = plb.l2_walk(data[:,0].astype(int), data[:,1].astype(int), data[:,2], data[:,3], total_dollar_depth=100)"
   ]
  },
  {
   "cell_type": "code",
   "execution_count": null,
   "metadata": {},
   "outputs": [],
   "source": [
    "timings = _\n",
    "plb_t_d100 = np.mean(timings.timings)\n",
    "plb_t_d100"
   ]
  },
  {
   "cell_type": "markdown",
   "metadata": {},
   "source": [
    "# Plots"
   ]
  },
  {
   "cell_type": "code",
   "execution_count": null,
   "metadata": {},
   "outputs": [],
   "source": [
    "results = pd.DataFrame.from_dict({\n",
    "    'Implementation': ['naive', 'plb', 'plb50', 'plb100'],\n",
    "    'Avg. Time (Secs)': [naive_t, plb_t, plb_t_d50, plb_t_d100]\n",
    "})\n",
    "results"
   ]
  },
  {
   "cell_type": "code",
   "execution_count": null,
   "metadata": {},
   "outputs": [],
   "source": [
    "ax = sns.barplot(x=results['Implementation'], y=results['Avg. Time (Secs)'])\n",
    "fig = ax.get_figure()\n",
    "fig.savefig('benchmarks.png')"
   ]
  },
  {
   "cell_type": "code",
   "execution_count": null,
   "metadata": {},
   "outputs": [],
   "source": []
  }
 ],
 "metadata": {
  "kernelspec": {
   "display_name": "py36",
   "language": "python",
   "name": "py36"
  },
  "language_info": {
   "codemirror_mode": {
    "name": "ipython",
    "version": 3
   },
   "file_extension": ".py",
   "mimetype": "text/x-python",
   "name": "python",
   "nbconvert_exporter": "python",
   "pygments_lexer": "ipython3",
   "version": "3.6.12"
  }
 },
 "nbformat": 4,
 "nbformat_minor": 4
}
