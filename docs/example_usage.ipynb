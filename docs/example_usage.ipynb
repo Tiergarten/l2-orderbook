{
 "cells": [
  {
   "cell_type": "markdown",
   "metadata": {},
   "source": [
    "# l2-orderbook example usage"
   ]
  },
  {
   "cell_type": "code",
   "execution_count": 1,
   "metadata": {},
   "outputs": [],
   "source": [
    "import logging\n",
    "import os\n",
    "\n",
    "logging.basicConfig(level=os.environ.get(\"LOGLEVEL\", \"INFO\"))"
   ]
  },
  {
   "cell_type": "code",
   "execution_count": 2,
   "metadata": {},
   "outputs": [],
   "source": [
    "from scipy import stats"
   ]
  },
  {
   "cell_type": "code",
   "execution_count": 3,
   "metadata": {},
   "outputs": [],
   "source": [
    "import pandas as pd\n",
    "import numpy as np\n",
    "import seaborn as sns\n",
    "import matplotlib.pyplot as plt"
   ]
  },
  {
   "cell_type": "code",
   "execution_count": 4,
   "metadata": {},
   "outputs": [],
   "source": [
    "import plb"
   ]
  },
  {
   "cell_type": "code",
   "execution_count": 5,
   "metadata": {},
   "outputs": [],
   "source": [
    "pd.set_option('display.max_colwidth', None)"
   ]
  },
  {
   "cell_type": "code",
   "execution_count": 6,
   "metadata": {},
   "outputs": [
    {
     "data": {
      "text/html": [
       "<style>.container { width:100% !important; }</style>"
      ],
      "text/plain": [
       "<IPython.core.display.HTML object>"
      ]
     },
     "metadata": {},
     "output_type": "display_data"
    }
   ],
   "source": [
    "from IPython.core.display import display, HTML\n",
    "display(HTML(\"<style>.container { width:100% !important; }</style>\"))\n",
    "pd.set_option('display.max_columns', None)"
   ]
  },
  {
   "cell_type": "code",
   "execution_count": 7,
   "metadata": {},
   "outputs": [],
   "source": [
    "%matplotlib inline"
   ]
  },
  {
   "cell_type": "code",
   "execution_count": 8,
   "metadata": {},
   "outputs": [],
   "source": [
    "INPUT_DIR='/storage/m2/market_data/raw/crypto/binance/BTCUSDT/orderbook'\n",
    "OUTPUT_PQ='output2.parquet'\n",
    "SAMPLE_DATE='2020-11-01'"
   ]
  },
  {
   "cell_type": "code",
   "execution_count": 9,
   "metadata": {},
   "outputs": [],
   "source": [
    "def get_input_pair(input_dir, dt):\n",
    "    '''Load Binance L2 orderbook snapshot and delta files'''\n",
    "    fn_template = os.path.join(input_dir, 'BTCUSDT_T_DEPTH_{}_depth_'.format(dt))\n",
    "    snap_fn = fn_template + 'snap.csv'\n",
    "    update_fn = fn_template + 'update.csv'\n",
    "    \n",
    "    return pd.read_csv(snap_fn), pd.read_csv(update_fn)"
   ]
  },
  {
   "cell_type": "code",
   "execution_count": 10,
   "metadata": {},
   "outputs": [],
   "source": [
    "def get_l2_input(input_dir, dt):\n",
    "    '''Pre-process input'''\n",
    "    snapshot, deltas = get_input_pair(input_dir, dt)\n",
    "    \n",
    "    df = pd.concat([snapshot,deltas])\n",
    "\n",
    "    df['side'] = np.where(df['side'] == 'b', 1, 0)\n",
    "    df['side'] = df['side'].astype('int8')\n",
    "\n",
    "    df['qty'] = df['qty'].astype('float32')\n",
    "\n",
    "    df = df.drop(columns=['symbol', 'first_update_id', 'last_update_id', 'update_type'])\n",
    "    \n",
    "    return df, snapshot.shape[0]"
   ]
  },
  {
   "cell_type": "code",
   "execution_count": 11,
   "metadata": {},
   "outputs": [],
   "source": [
    "def get_tops(input_dir, dt, tops_n=8, total_dollar_depth=0):\n",
    "    l2_input_df, snapshot_end_offset = get_l2_input(input_dir, dt)\n",
    "    \n",
    "    data = l2_input_df[['timestamp', 'side', 'price', 'qty']].values\n",
    "    ret = plb.l2_walk(data[:,0].astype(int), data[:,1].astype(int), data[:,2], data[:,3])\n",
    "    \n",
    "    ret = ret.iloc[snapshot_end_offset:]\n",
    "    \n",
    "    ret['ts'] = pd.to_datetime(ret['ts'], unit='ms')\n",
    "\n",
    "    ret['year'] = ret.ts.dt.year\n",
    "    ret['month'] = ret.ts.dt.month\n",
    "    ret['day'] = ret.ts.dt.day\n",
    "    \n",
    "    ret = ret.set_index(ret['ts'])\n",
    "\n",
    "    return ret"
   ]
  },
  {
   "cell_type": "code",
   "execution_count": null,
   "metadata": {},
   "outputs": [
    {
     "name": "stderr",
     "output_type": "stream",
     "text": [
      "INFO:root:input shape: 44474923\n"
     ]
    }
   ],
   "source": [
    "ret = get_tops(INPUT_DIR, SAMPLE_DATE, total_dollar_depth=100)"
   ]
  },
  {
   "cell_type": "markdown",
   "metadata": {},
   "source": [
    "## EDA"
   ]
  },
  {
   "cell_type": "code",
   "execution_count": null,
   "metadata": {},
   "outputs": [],
   "source": [
    "ret.head()"
   ]
  },
  {
   "cell_type": "code",
   "execution_count": null,
   "metadata": {},
   "outputs": [],
   "source": [
    "ret['spread']  = ret['a_0'] - ret['b_0']\n",
    "ret['mid_price'] = ret['b_0'] + ret['spread']"
   ]
  },
  {
   "cell_type": "code",
   "execution_count": null,
   "metadata": {},
   "outputs": [],
   "source": [
    "ret['b_qty'] = ret[[c for c in ret.columns if c.startswith('bq_')]].sum(axis=1)\n",
    "ret['a_qty'] = ret[[c for c in ret.columns if c.startswith('aq_')]].sum(axis=1)\n",
    "ret['tops_imbalance_delta'] = ((ret['b_qty'] - ret['a_qty']) )"
   ]
  },
  {
   "cell_type": "code",
   "execution_count": null,
   "metadata": {},
   "outputs": [],
   "source": [
    "sample = ret.tail(100000)"
   ]
  },
  {
   "cell_type": "code",
   "execution_count": null,
   "metadata": {},
   "outputs": [],
   "source": [
    "from pylab import rcParams\n",
    "rcParams['figure.figsize'] = 10, 3"
   ]
  },
  {
   "cell_type": "code",
   "execution_count": null,
   "metadata": {},
   "outputs": [],
   "source": [
    "ax = sample['mid_price'].plot(label='mid', color='black')\n",
    "\n",
    "ax2 = ax.twinx()\n",
    "sample['tops_imbalance_delta'].ewm(500).mean().plot(ax=ax2, color='green')\n",
    "\n",
    "ax.figure.legend()\n",
    "plt.show()"
   ]
  }
 ],
 "metadata": {
  "kernelspec": {
   "display_name": "py36",
   "language": "python",
   "name": "py36"
  },
  "language_info": {
   "codemirror_mode": {
    "name": "ipython",
    "version": 3
   },
   "file_extension": ".py",
   "mimetype": "text/x-python",
   "name": "python",
   "nbconvert_exporter": "python",
   "pygments_lexer": "ipython3",
   "version": "3.6.12"
  }
 },
 "nbformat": 4,
 "nbformat_minor": 4
}
