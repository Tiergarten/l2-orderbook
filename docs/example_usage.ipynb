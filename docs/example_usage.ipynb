{
 "cells": [
  {
   "cell_type": "markdown",
   "metadata": {},
   "source": [
    "# l2-orderbook example usage"
   ]
  },
  {
   "cell_type": "code",
   "execution_count": 1,
   "metadata": {},
   "outputs": [],
   "source": [
    "import logging\n",
    "import os\n",
    "\n",
    "logging.basicConfig(level=os.environ.get(\"LOGLEVEL\", \"INFO\"))"
   ]
  },
  {
   "cell_type": "code",
   "execution_count": 2,
   "metadata": {},
   "outputs": [],
   "source": [
    "from scipy import stats"
   ]
  },
  {
   "cell_type": "code",
   "execution_count": 3,
   "metadata": {},
   "outputs": [],
   "source": [
    "import pandas as pd\n",
    "import numpy as np\n",
    "import seaborn as sns\n",
    "import matplotlib.pyplot as plt"
   ]
  },
  {
   "cell_type": "code",
   "execution_count": 4,
   "metadata": {},
   "outputs": [],
   "source": [
    "import plb"
   ]
  },
  {
   "cell_type": "code",
   "execution_count": 5,
   "metadata": {},
   "outputs": [],
   "source": [
    "pd.set_option('display.max_colwidth', None)"
   ]
  },
  {
   "cell_type": "code",
   "execution_count": 6,
   "metadata": {},
   "outputs": [
    {
     "data": {
      "text/html": [
       "<style>.container { width:100% !important; }</style>"
      ],
      "text/plain": [
       "<IPython.core.display.HTML object>"
      ]
     },
     "metadata": {},
     "output_type": "display_data"
    }
   ],
   "source": [
    "from IPython.core.display import display, HTML\n",
    "display(HTML(\"<style>.container { width:100% !important; }</style>\"))\n",
    "pd.set_option('display.max_columns', None)"
   ]
  },
  {
   "cell_type": "code",
   "execution_count": 7,
   "metadata": {},
   "outputs": [],
   "source": [
    "%matplotlib inline"
   ]
  },
  {
   "cell_type": "code",
   "execution_count": 8,
   "metadata": {},
   "outputs": [],
   "source": [
    "INPUT_DIR='/storage/m2/market_data/raw/crypto/binance/BTCUSDT/orderbook'\n",
    "SAMPLE_DATE='2020-08-01'"
   ]
  },
  {
   "cell_type": "code",
   "execution_count": 9,
   "metadata": {},
   "outputs": [],
   "source": [
    "def get_binance_orderbook_snap_delta(input_dir, dt):\n",
    "    '''Load Binance L2 orderbook snapshot and delta files'''\n",
    "    \n",
    "    fn_template = os.path.join(input_dir, 'BTCUSDT_T_DEPTH_{}_depth_'.format(dt))\n",
    "    snap_fn = fn_template + 'snap.csv'\n",
    "    update_fn = fn_template + 'update.csv'\n",
    "    \n",
    "    needed_cols = ['timestamp', 'side', 'price', 'qty'] \n",
    "    \n",
    "    return pd.read_csv(snap_fn, usecols=needed_cols), pd.read_csv(update_fn, usecols=needed_cols)"
   ]
  },
  {
   "cell_type": "code",
   "execution_count": 10,
   "metadata": {},
   "outputs": [],
   "source": [
    "def get_binance_tops(input_dir, input_date):\n",
    "    '''Get tops from binance orderbook data and skip over the start-of-day snapshot data'''\n",
    "    snap, delta = get_binance_orderbook_snap_delta(input_dir, input_date)\n",
    "    df = pd.concat([snap, delta])\n",
    "\n",
    "    df = plb.set_types(df)\n",
    "    tops = plb.get_tops(df)\n",
    "    \n",
    "    return tops.iloc[snap.shape[0]:]"
   ]
  },
  {
   "cell_type": "code",
   "execution_count": 11,
   "metadata": {},
   "outputs": [
    {
     "name": "stdout",
     "output_type": "stream",
     "text": [
      "CPU times: user 48.3 s, sys: 8.57 s, total: 56.9 s\n",
      "Wall time: 56.9 s\n"
     ]
    }
   ],
   "source": [
    "%%time\n",
    "tops = get_binance_tops(INPUT_DIR, SAMPLE_DATE)"
   ]
  },
  {
   "cell_type": "code",
   "execution_count": 12,
   "metadata": {},
   "outputs": [
    {
     "name": "stdout",
     "output_type": "stream",
     "text": [
      "<class 'pandas.core.frame.DataFrame'>\n",
      "RangeIndex: 13640551 entries, 15797 to 13656347\n",
      "Data columns (total 35 columns):\n",
      " #   Column   Dtype \n",
      "---  ------   ----- \n",
      " 0   ts       uint64\n",
      " 1   b_0      uint32\n",
      " 2   bq_0     uint32\n",
      " 3   b_1      uint32\n",
      " 4   bq_1     uint32\n",
      " 5   b_2      uint32\n",
      " 6   bq_2     uint32\n",
      " 7   b_3      uint32\n",
      " 8   bq_3     uint32\n",
      " 9   b_4      uint32\n",
      " 10  bq_4     uint32\n",
      " 11  b_5      uint32\n",
      " 12  bq_5     uint32\n",
      " 13  b_6      uint32\n",
      " 14  bq_6     uint32\n",
      " 15  b_7      uint32\n",
      " 16  bq_7     uint32\n",
      " 17  a_0      uint32\n",
      " 18  aq_0     uint32\n",
      " 19  a_1      uint32\n",
      " 20  aq_1     uint32\n",
      " 21  a_2      uint32\n",
      " 22  aq_2     uint32\n",
      " 23  a_3      uint32\n",
      " 24  aq_3     uint32\n",
      " 25  a_4      uint32\n",
      " 26  aq_4     uint32\n",
      " 27  a_5      uint32\n",
      " 28  aq_5     uint32\n",
      " 29  a_6      uint32\n",
      " 30  aq_6     uint32\n",
      " 31  a_7      uint32\n",
      " 32  aq_7     uint32\n",
      " 33  b_total  uint32\n",
      " 34  a_total  uint32\n",
      "dtypes: uint32(34), uint64(1)\n",
      "memory usage: 1.8 GB\n"
     ]
    }
   ],
   "source": [
    "tops.info()"
   ]
  },
  {
   "cell_type": "markdown",
   "metadata": {},
   "source": [
    "## EDA"
   ]
  },
  {
   "cell_type": "code",
   "execution_count": 13,
   "metadata": {},
   "outputs": [],
   "source": [
    "tops['spread']  = tops['a_0'] - tops['b_0']\n",
    "tops['mid_price'] = tops['b_0'] + tops['spread']"
   ]
  },
  {
   "cell_type": "code",
   "execution_count": 14,
   "metadata": {},
   "outputs": [],
   "source": [
    "tops['b_qty'] = tops[[c for c in tops.columns if c.startswith('bq_')]].sum(axis=1)\n",
    "tops['a_qty'] = tops[[c for c in tops.columns if c.startswith('aq_')]].sum(axis=1)\n",
    "tops['tops_imbalance_delta'] = ((tops['b_qty'] - tops['a_qty']) )"
   ]
  },
  {
   "cell_type": "code",
   "execution_count": 15,
   "metadata": {},
   "outputs": [],
   "source": [
    "sample = tops.tail(100000)"
   ]
  },
  {
   "cell_type": "code",
   "execution_count": 16,
   "metadata": {},
   "outputs": [],
   "source": [
    "from pylab import rcParams\n",
    "rcParams['figure.figsize'] = 10, 3"
   ]
  },
  {
   "cell_type": "code",
   "execution_count": 17,
   "metadata": {},
   "outputs": [
    {
     "data": {
      "image/png": "[encoded data removed]",
      "text/plain": [
       "<Figure size 720x216 with 2 Axes>"
      ]
     },
     "metadata": {
      "needs_background": "light"
     },
     "output_type": "display_data"
    }
   ],
   "source": [
    "ax = (sample['mid_price']/100).plot(label='mid', color='black')\n",
    "\n",
    "ax2 = ax.twinx()\n",
    "(sample['tops_imbalance_delta']/1000).ewm(500).mean().plot(ax=ax2, color='green')\n",
    "\n",
    "ax.figure.legend()\n",
    "plt.show()"
   ]
  },
  {
   "cell_type": "code",
   "execution_count": null,
   "metadata": {},
   "outputs": [],
   "source": []
  }
 ],
 "metadata": {
  "kernelspec": {
   "display_name": "py36",
   "language": "python",
   "name": "py36"
  },
  "language_info": {
   "codemirror_mode": {
    "name": "ipython",
    "version": 3
   },
   "file_extension": ".py",
   "mimetype": "text/x-python",
   "name": "python",
   "nbconvert_exporter": "python",
   "pygments_lexer": "ipython3",
   "version": "3.6.12"
  }
 },
 "nbformat": 4,
 "nbformat_minor": 4
}
